{
  "cells": [
    {
      "cell_type": "markdown",
      "metadata": {
        "id": "view-in-github",
        "colab_type": "text"
      },
      "source": [
        "<a href=\"https://colab.research.google.com/github/fher02179/app.py/blob/main/facechain_en_colab.ipynb\" target=\"_parent\"><img src=\"https://colab.research.google.com/assets/colab-badge.svg\" alt=\"Open In Colab\"/></a>"
      ]
    },
    {
      "cell_type": "code",
      "execution_count": null,
      "metadata": {
        "id": "VjYy0F2gZIPR",
        "outputId": "17beed9a-709f-43a8-fa48-d26484e0e1fb",
        "colab": {
          "base_uri": "https://localhost:8080/"
        }
      },
      "outputs": [
        {
          "output_type": "stream",
          "name": "stdout",
          "text": [
            "/content\n",
            "Cloning into 'facechain'...\n",
            "remote: Enumerating objects: 50, done.\u001b[K\n",
            "remote: Counting objects: 100% (50/50), done.\u001b[K\n",
            "remote: Compressing objects: 100% (50/50), done.\u001b[K\n",
            "remote: Total 50 (delta 1), reused 32 (delta 0), pack-reused 0 (from 0)\u001b[K\n",
            "Receiving objects: 100% (50/50), 2.88 MiB | 31.73 MiB/s, done.\n",
            "Resolving deltas: 100% (1/1), done.\n",
            "Filtering content: 100% (9/9), 3.72 MiB | 2.57 MiB/s, done.\n",
            "Encountered 4 file(s) that should have been pointers, but weren't:\n",
            "\tresources/inpaint_template/0.jpg\n",
            "\tresources/inpaint_template/1.jpg\n",
            "\tresources/inpaint_template/2.jpg\n",
            "\tresources/inpaint_template/3.jpg\n",
            "\u001b[31mERROR: mmcv_full-1.7.1-cp310-cp310-linux_x86_64.whl is not a supported wheel on this platform.\u001b[0m\u001b[31m\n",
            "\u001b[2K     \u001b[90m━━━━━━━━━━━━━━━━━━━━━━━━━━━━━━━━━━━━━━━━\u001b[0m \u001b[32m61.0/61.0 kB\u001b[0m \u001b[31m5.5 MB/s\u001b[0m eta \u001b[36m0:00:00\u001b[0m\n",
            "\u001b[2K     \u001b[90m━━━━━━━━━━━━━━━━━━━━━━━━━━━━━━━━━━━━━━━━\u001b[0m \u001b[32m46.8/46.8 kB\u001b[0m \u001b[31m3.1 MB/s\u001b[0m eta \u001b[36m0:00:00\u001b[0m\n",
            "\u001b[2K   \u001b[90m━━━━━━━━━━━━━━━━━━━━━━━━━━━━━━━━━━━━━━━━\u001b[0m \u001b[32m1.4/1.4 MB\u001b[0m \u001b[31m72.2 MB/s\u001b[0m eta \u001b[36m0:00:00\u001b[0m\n",
            "\u001b[2K   \u001b[90m━━━━━━━━━━━━━━━━━━━━━━━━━━━━━━━━━━━━━━━━\u001b[0m \u001b[32m109.1/109.1 MB\u001b[0m \u001b[31m6.4 MB/s\u001b[0m eta \u001b[36m0:00:00\u001b[0m\n",
            "\u001b[2K   \u001b[90m━━━━━━━━━━━━━━━━━━━━━━━━━━━━━━━━━━━━━━━━\u001b[0m \u001b[32m63.3/63.3 MB\u001b[0m \u001b[31m12.7 MB/s\u001b[0m eta \u001b[36m0:00:00\u001b[0m\n",
            "\u001b[2K   \u001b[91m━━━━━━━━━━━━━━━━━━━━━\u001b[0m\u001b[90m╺\u001b[0m\u001b[90m━━━━━━━━━━━━━━━━━━\u001b[0m \u001b[32m329.6/619.9 MB\u001b[0m \u001b[31m6.6 MB/s\u001b[0m eta \u001b[36m0:00:44\u001b[0m"
          ]
        }
      ],
      "source": [
        "%cd /content\n",
        "!git clone --depth 1 -b v1.0-en https://github.com/camenduru/facechain\n",
        "!pip install -q https://github.com/camenduru/wheels/releases/download/colab/mmcv_full-1.7.1-cp310-cp310-linux_x86_64.whl\n",
        "!pip install -q gradio accelerate transformers diffusers onnxruntime modelscope mediapipe mmdet==2.26.0 mmengine timm controlnet_aux xformers==0.0.20 triton==2.0.0\n",
        "!git clone https://huggingface.co/camenduru/facechain-colab /root/.cache/modelscope\n",
        "\n",
        "%cd /content/facechain\n",
        "!python app.py"
      ]
    },
    {
      "cell_type": "code",
      "execution_count": null,
      "metadata": {
        "id": "S6om-iOjR4yS"
      },
      "outputs": [],
      "source": [
        "!pip install -q safetensors\n",
        "!wget https://raw.githubusercontent.com/camenduru/facechain-colab/main/convert-to-safetensors.py\n",
        "!python convert-to-safetensors.py --file /tmp/qw/personalization_lora/pytorch_lora_weights.bin\n",
        "!cp /tmp/qw/personalization_lora/pytorch_lora_weights.bin /content/pytorch_lora_weights.bin\n",
        "!cp /tmp/qw/personalization_lora/pytorch_lora_weights_converted.safetensors /content/pytorch_lora_weights_converted.safetensors"
      ]
    }
  ],
  "metadata": {
    "accelerator": "GPU",
    "colab": {
      "gpuType": "T4",
      "provenance": [],
      "include_colab_link": true
    },
    "kernelspec": {
      "display_name": "Python 3",
      "name": "python3"
    },
    "language_info": {
      "name": "python"
    }
  },
  "nbformat": 4,
  "nbformat_minor": 0
}